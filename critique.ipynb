{
 "cells": [
  {
   "cell_type": "markdown",
   "metadata": {
    "collapsed": false
   },
   "source": [
    "### CW04-thepenguins Jack"
   ]
  },
  {
   "cell_type": "markdown",
   "metadata": {
    "collapsed": false
   },
   "source": [
    "- The code is clear and organized (neat syntax as well)\n",
    "- Docstrings and supplementary comments aided in code clarity\n",
    "- primes.py has efficient functions and even includes exeptions to avoid user error\n",
    "- The test cases in module run automatically by Travis\n",
    "- 100/100"
   ]
  }
 ],
 "metadata": {
  "kernelspec": {
   "display_name": "Python 3 (Anaconda 5)",
   "language": "python",
   "name": "anaconda5"
  }
 },
 "nbformat": 4,
 "nbformat_minor": 0
}